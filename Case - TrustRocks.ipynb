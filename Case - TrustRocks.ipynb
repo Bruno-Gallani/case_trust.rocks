{
 "cells": [
  {
   "cell_type": "markdown",
   "metadata": {},
   "source": [
    "# Setting up the environment"
   ]
  },
  {
   "cell_type": "markdown",
   "metadata": {},
   "source": [
    "To modify Google Sheets spreadsheets using Python, I needed to use the Google Sheets API. But, for this, I followed the four steps below:\n",
    "\n",
    "- **Step 1**: Create a project on <a href=\"https://console.cloud.google.com/\">*Google Cloud*</a>;\n",
    "- **Step 2**: Select the created project, and activate the necessary APIs;\n",
    "- **Step 3**: Configure the *OAuth* permission screen;\n",
    "- **Step 4**: Authorize credentials for a computer application."
   ]
  },
  {
   "cell_type": "markdown",
   "metadata": {},
   "source": [
    "After this setup, the **credentials.json** file was generated, and then I installed the Google client library for Python. For that, I executed the following code at the VSCode terminal:\n",
    "```\n",
    "pip install --upgrade google-api-python-client google-auth-httplib2 google-auth-oauthlib\n",
    "```"
   ]
  },
  {
   "cell_type": "markdown",
   "metadata": {},
   "source": [
    "# Creating the app"
   ]
  },
  {
   "cell_type": "markdown",
   "metadata": {},
   "source": [
    "After setting up the environment, we can execute commands in Python. In the first place, we import the required libraries:"
   ]
  },
  {
   "cell_type": "code",
   "execution_count": 2,
   "metadata": {},
   "outputs": [],
   "source": [
    "import os.path\n",
    "\n",
    "from google.auth.transport.requests import Request\n",
    "from google.oauth2.credentials import Credentials\n",
    "from google_auth_oauthlib.flow import InstalledAppFlow\n",
    "from googleapiclient.discovery import build\n",
    "from googleapiclient.errors import HttpError"
   ]
  },
  {
   "cell_type": "markdown",
   "metadata": {},
   "source": [
    "Next, we set up the API scopes, the spreadsheet, and its cell range to be used:"
   ]
  },
  {
   "cell_type": "code",
   "execution_count": 3,
   "metadata": {},
   "outputs": [],
   "source": [
    "SCOPES = [\"https://www.googleapis.com/auth/spreadsheets\"]\n",
    "\n",
    "# The ID and range of the spreadsheet\n",
    "SPREADSHEET_ID = \"1y1beFCzEiD4xYjzVczTWXW4TDkemwNolMb-aPptoJKs\"\n",
    "RANGE_NAME = \"engenharia_de_software!A4:F27\"\n",
    "\n",
    "# The missing spreadsheet data to update\n",
    "DATA_TO_UPDATE = \"engenharia_de_software!G4:H27\""
   ]
  },
  {
   "cell_type": "markdown",
   "metadata": {},
   "source": [
    "Now, we execute the following code to update the blank spreadsheet values:"
   ]
  },
  {
   "cell_type": "code",
   "execution_count": 4,
   "metadata": {},
   "outputs": [
    {
     "name": "stdout",
     "output_type": "stream",
     "text": [
      "Data updated!\n"
     ]
    }
   ],
   "source": [
    "def school_status(school_absences, average_grade, total_classes):\n",
    "\n",
    "  if school_absences > (total_classes * 0.25):\n",
    "    situation = \"Reprovado por Falta\"\n",
    "  else:\n",
    "    if average_grade < 50:\n",
    "      situation = \"Reprovado por Nota\"\n",
    "    elif average_grade >= 50 and average_grade < 70:\n",
    "      situation = \"Exame Final\"\n",
    "    elif average_grade >= 70:\n",
    "      situation = \"Aprovado\"\n",
    "    \n",
    "  if situation == \"Exame Final\":\n",
    "    minimum_grade = 100 - average_grade\n",
    "    approval_grade = f\"naf >= {minimum_grade:.2f}\"\n",
    "  else:\n",
    "    approval_grade = 0\n",
    "  \n",
    "  return situation, approval_grade\n",
    "\n",
    "def main():\n",
    "\n",
    "  # The following lines let the user access the application\n",
    "\n",
    "  # Start with empty creds\n",
    "  creds = None\n",
    "\n",
    "  if os.path.exists(\"token.json\"):\n",
    "    creds = Credentials.from_authorized_user_file(\"token.json\", SCOPES)\n",
    "  # If there are no (valid) credentials available, let the user log in.\n",
    "  if not creds or not creds.valid:\n",
    "    if creds and creds.expired and creds.refresh_token:\n",
    "      creds.refresh(Request())\n",
    "    else:\n",
    "      flow = InstalledAppFlow.from_client_secrets_file(\n",
    "          \"credentials.json\", SCOPES\n",
    "      )\n",
    "      creds = flow.run_local_server(port=0)\n",
    "    # Save the credentials for the next run\n",
    "    with open(\"token.json\", \"w\") as token:\n",
    "      token.write(creds.to_json())\n",
    "\n",
    "  # The following lines manipulate the data in Google Sheets\n",
    "  try:\n",
    "    service = build(\"sheets\", \"v4\", credentials=creds)\n",
    "\n",
    "    # Call the Sheets API\n",
    "    sheet = service.spreadsheets()\n",
    "\n",
    "    # Getting the number of classes in the semester\n",
    "    data_total_classes = sheet.values().get(\n",
    "      spreadsheetId=SPREADSHEET_ID,\n",
    "      range=\"A2:H2\").execute()\n",
    "    total_classes = int(\n",
    "      data_total_classes[\"values\"][0][0].replace(\n",
    "      \"Total de aulas no semestre: \", \"\"\n",
    "    ))\n",
    "\n",
    "    # Getting the students information\n",
    "    students_data = sheet.values().get(\n",
    "      spreadsheetId=SPREADSHEET_ID,\n",
    "      range=RANGE_NAME).execute()\n",
    "    students_values = students_data['values']\n",
    "\n",
    "    # Adding data\n",
    "    data_to_add = []\n",
    "\n",
    "    for linha in students_values:\n",
    "      absences = int(linha[2])\n",
    "      exam_1, exam_2, exam_3 = float(linha[3]), float(linha[4]), float(linha[5])\n",
    "      average_grade = (exam_1 + exam_2 + exam_3) / 3\n",
    "      situation, approval_grade = school_status(absences, average_grade, total_classes)\n",
    "      data_to_add.append([situation, approval_grade])\n",
    "\n",
    "    # Updating the data\n",
    "    sheet.values().update(\n",
    "      spreadsheetId=SPREADSHEET_ID,\n",
    "      range=DATA_TO_UPDATE, valueInputOption=\"USER_ENTERED\",\n",
    "      body={\"values\": data_to_add}).execute()\n",
    "    \n",
    "    print(\"Data updated!\")\n",
    "\n",
    "  except HttpError as err:\n",
    "    print(err)\n",
    "\n",
    "if __name__ == \"__main__\":\n",
    "  main()"
   ]
  }
 ],
 "metadata": {
  "kernelspec": {
   "display_name": "Python 3",
   "language": "python",
   "name": "python3"
  },
  "language_info": {
   "codemirror_mode": {
    "name": "ipython",
    "version": 3
   },
   "file_extension": ".py",
   "mimetype": "text/x-python",
   "name": "python",
   "nbconvert_exporter": "python",
   "pygments_lexer": "ipython3",
   "version": "3.11.1"
  }
 },
 "nbformat": 4,
 "nbformat_minor": 2
}
